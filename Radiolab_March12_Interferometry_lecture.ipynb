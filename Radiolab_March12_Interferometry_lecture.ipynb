{
 "cells": [
  {
   "cell_type": "markdown",
   "metadata": {},
   "source": [
    "## Interferometry and Fourier Transforms\n",
    "From last week: Imagine two spikes, with different amount of power, each spike tells your how much power you're getting from both of those sources, and there is a delay difference.\n",
    "\n",
    "We just have one frequency that we're measuring, 1.7GHz, with a bandwith of ... we're not getting a delay, we're getting a frequency. So let's take the Fourier transform to get a measurement of frequency. Take the Fourier Transform of FT([V1 correlated with V2](Tau delay)]. Remember correlations are multiplications with a conjugage in the .. domain. = $V_1(\\nu)$ * $v2conj(\\nu)$ for antenna1, antenna2. Now we'll have Antenna1and2 = V12 = visibility. "
   ]
  },
  {
   "cell_type": "markdown",
   "metadata": {},
   "source": [
    "Visibility is the Fourier transform of the delay. FT of a delta function is a sine way. The FT of the sum of two delta functions is the sum of two sine waves, the Fourier Transforms add. "
   ]
  },
  {
   "cell_type": "markdown",
   "metadata": {},
   "source": [
    "# $V_{12}(\\nu) = \\frac{1}{2*\\pi}* |(E_A)|^2 * e^{2\\pi i  \\tau_A  \\nu} + \\frac{1}{2*\\pi}* |(E_B)|^2 * e^{2\\pi i  \\tau_B  \\nu}$"
   ]
  },
  {
   "cell_type": "markdown",
   "metadata": {},
   "source": [
    "Generic forumula for visibility: say the whole sky is a circle [orthographic projection]. Next lab we will learn all about map projections. If you're trying to project a sphere into 2D, orthographic projection flattens the sphere. Angle in X and angle in Y, whatever you find on the ball in some angle, map to the sine of that angle. Thetas in the middle stay the same size. You're seeing the circular outline of the sphere, and a dot shows up at a position that is a sine of the angle from the center. Moves faster in the middle but not at the edges."
   ]
  },
  {
   "cell_type": "markdown",
   "metadata": {},
   "source": [
    "Imagine you're outside the sphere of the universe."
   ]
  },
  {
   "cell_type": "markdown",
   "metadata": {},
   "source": [
    "Chop up the orthographic projection into pixels. Each pixel will have a little bit of brightness. They each have $\\Delta\\Omega$, some pixel on the sky that area represents. Our center freq $\\nu = \\nu_0$ is 10.7GHz, our $d\\nu$ is set by our filters, $\\pm$ 2MHz. "
   ]
  },
  {
   "cell_type": "markdown",
   "metadata": {},
   "source": [
    "If you multiply two functions in the time domain, we're convolving them in the frequency domain. Ex, the convolution of two square functions is a triangle function. The sensitivity is the half width, not the full width. "
   ]
  },
  {
   "cell_type": "markdown",
   "metadata": {},
   "source": [
    "Pixel on the sky $d\\Omega$, we have a frequency $\\nu $ we will measure it at, and will get some flux. We need flux per solid angle per frequency. This is SPECIFIC INTENSITY. \n",
    "\n",
    "$I_{\\nu}(\\theta_x, \\theta_y)$\n",
    "\n",
    "The geometric delay for every pixel is the baseline(a fixed thing on the ground) dotted into the position of each pixel\n",
    "\n",
    "$\\tau_g = b \\dot (sin\\theta_x, sin\\theta_y),\\sqrt(1-l^2-m^2)/c$\n",
    "$b = b_x, b_y, b_z$, the unit vectors\n",
    "$l = sin\\theta_x = l$\n",
    "$m = sin\\theta_y$\n"
   ]
  },
  {
   "cell_type": "markdown",
   "metadata": {},
   "source": [
    "# $ V_{12} = \\integral ( A_\\{\\nu}(l,m) \\dot I_\\nu(l, m)e^{(-2\\pi i(b_x * l/\\lambda + b_y *m/\\lambda + b_z*\\sqrt(1-l^2-m^2)/\\lambda )]$"
   ]
  },
  {
   "cell_type": "markdown",
   "metadata": {},
   "source": [
    "$u = \\frac{b_x  l}{\\lambda} $"
   ]
  },
  {
   "cell_type": "markdown",
   "metadata": {},
   "source": [
    "$v = \\frac{b_y  l}{\\lambda} $"
   ]
  },
  {
   "cell_type": "markdown",
   "metadata": {},
   "source": [
    "$w = \\frac{b_z  \\sqrt(1-l^2-m^2)}{\\lambda} $"
   ]
  },
  {
   "cell_type": "markdown",
   "metadata": {},
   "source": [
    "## Measurement Equation\n",
    "$\\Integral A_{\\nu}$"
   ]
  },
  {
   "cell_type": "markdown",
   "metadata": {},
   "source": [
    "For small angles $sin\\theta \\approx \\theta$. Our interferometer works in the small angle regime because our beam $\\approx \\pm 1.5 degrees$"
   ]
  },
  {
   "cell_type": "markdown",
   "metadata": {},
   "source": [
    "Z points in the direction of the center of the beam, x and y are orthogonal. Center of beam is z hat, wherever you are pointing. "
   ]
  },
  {
   "cell_type": "markdown",
   "metadata": {},
   "source": [
    "$ l \\approx \\theta_x;  m \\approx \\theta_y ; \\sqrt(1-l^2-m^2) = 1 ; w\\sqrt(1-l^2-m^2) = w $"
   ]
  },
  {
   "cell_type": "markdown",
   "metadata": {},
   "source": [
    "$ \\integral V_{12}(\\nu)$ $\\approx e^{-2\\pi i w} $ $\\integral $A_{\\nu}$ (\\theta_x, \\theta_y)$ * $e^{-2\\pi i (\\theta_x u + \\theta_y v)}$ $ d\\theta_x d\\theta_y$"
   ]
  },
  {
   "cell_type": "markdown",
   "metadata": {},
   "source": [
    "For the oscillation, which is bigger, u or v? Is it higher frequency in the u or v direction? It is oscillating more quickly in the u direction, so the sine wave is pointing mostly in the u direction, so u is dominating over v. To do a Fourier Transform, try out all the different u's and v's, and take the picture of the sky, and integrate over all those sine waves, and you have the sky integrated over 2D Fourier components. A sine wave in 1D $\\rightarrow$ 2D sine wave. We like Gaussians in 1 Dimensional Fourier transforms, because it is the same thing. In 2D a Fourier transform of a Gaussian is still a Gaussian. A top hat function is a cylinder. A Fourier transform of a top hat is a sinc function. Fourier transform of a cylinder is a sink that is rotated in the second dimension -- a Bessel function of the first kind. So 2 Dimensional Fourier Transforms are mostly the same, except sine waves have an x and y component, our top hats are cylinders, and our sincs are Bessel functions.\n",
    "\n",
    "We said that the measurement of a interferometer is measuring a phaser and the Fourier transform of the sky, which is in (u,v), the (x, y) components of the sky in units of wavelength. If u and v are small, you have measured a low spatial frequency of the sky, place them far apart and you measure a high spatial frequency of the sky. So your interferometer is measuring a Fourier transform of the sky. The interferometer is taking a Fourier transform for you."
   ]
  },
  {
   "cell_type": "markdown",
   "metadata": {},
   "source": [
    "### For example, the sun when it is setting\n",
    "We have the sun, and two antennas, with a baseline b between them. Let's chose x to be the horizontal direction between them. Z is upwards to the sun, because thats where our antennas are. So the y axis into the white board. In this case, u (remember, is $\\frac{b_x}{ \\lambda}$. The only redeeming feature of feet is that its in nanoseconds, so they are about 40ns apart * 10.7 GHz = baseline length [wavelength] $\\approx 400 \\lambda$. We are measuring at u = 400 in the Fourier mode of the sky. The sun is sort of a cylinder. The Fourier transform of a cylinder is a Bessel function. If half of the width of the cylinder is $\\theta_x$, then in the Bessel function, the x axis is u. So finding u = 400 will be $V_{12}(\\nu_0)$ ..."
   ]
  },
  {
   "cell_type": "markdown",
   "metadata": {},
   "source": [
    "w is how much of the baseline that is in the direction of the sun. If its noon, then w is 0. Shortly after noon, $\\phi$ of sun from zenith, $w = \\frac{b*sin(\\phi)}{\\lambda}$"
   ]
  },
  {
   "cell_type": "markdown",
   "metadata": {},
   "source": [
    "u = 400, $V_{12}(\\nu_0) * e^{-2\\pi i w}$"
   ]
  },
  {
   "cell_type": "markdown",
   "metadata": {},
   "source": [
    "When the sun is setting, you're sampling the Fourier transform of the Bessel function at a different u, at u = 4. $V_{12}(\\nu_0) * e^{-2\\pi i w}$. W is not changing very much with $\\phi$ at that angle. W was changing rapidly around $\\phi = 90$ degrees at noon. As you get there, the w is changing less quickly, but the Bessel function gets bigger."
   ]
  },
  {
   "cell_type": "markdown",
   "metadata": {},
   "source": [
    "Multiplying by a sombrero (cylinder) is convolving a Bessel function. \n",
    "Convolve the Fourier domain is multiplying the image domain. As we convolve by larger amounts, we see less of the Mona Lisa, we can see in the Fourier domain the scale on which the averaging is happening. By reducing the resolution we are reducing the field of view. Like building a big dish and increase the diameter of the antenna, we are restricting the angles we can see on the sky, the power that we get in one direction is at the expense of the angles, except interferometry can do it all. "
   ]
  },
  {
   "cell_type": "code",
   "execution_count": null,
   "metadata": {},
   "outputs": [],
   "source": []
  }
 ],
 "metadata": {
  "kernelspec": {
   "display_name": "Python 3",
   "language": "python",
   "name": "python3"
  },
  "language_info": {
   "codemirror_mode": {
    "name": "ipython",
    "version": 3
   },
   "file_extension": ".py",
   "mimetype": "text/x-python",
   "name": "python",
   "nbconvert_exporter": "python",
   "pygments_lexer": "ipython3",
   "version": "3.6.5"
  }
 },
 "nbformat": 4,
 "nbformat_minor": 2
}
